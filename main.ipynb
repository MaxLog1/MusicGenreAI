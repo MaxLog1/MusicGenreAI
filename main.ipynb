{
 "cells": [
  {
   "cell_type": "markdown",
   "metadata": {},
   "source": [
    "This project involves building a machine learning model for audio classification, potentially focused on music genre classification. It uses the librosa library for audio feature extraction, while sklearn is employed for data preprocessing and model training."
   ]
  },
  {
   "cell_type": "code",
   "execution_count": 34,
   "metadata": {},
   "outputs": [],
   "source": [
    "import pandas as pd\n",
    "import numpy as np\n",
    "import matplotlib.pyplot as plt\n",
    "\n",
    "from glob import glob\n",
    "import librosa\n",
    "import librosa.display\n",
    "\n",
    "from sklearn.preprocessing import LabelEncoder, StandardScaler\n",
    "from sklearn.model_selection import train_test_split\n",
    "from sklearn.ensemble import RandomForestClassifier\n",
    "from sklearn.metrics import classification_report, accuracy_score\n",
    "from sklearn.ensemble import StackingClassifier, VotingClassifier\n",
    "from sklearn.svm import SVC\n",
    "from sklearn.neural_network import MLPClassifier\n",
    "\n",
    "\n",
    "from xgboost import XGBClassifier\n",
    "\n",
    "import warnings\n",
    "warnings.filterwarnings(\"ignore\")\n"
   ]
  },
  {
   "cell_type": "code",
   "execution_count": 35,
   "metadata": {},
   "outputs": [],
   "source": [
    "tracks = pd.read_csv(\"fma_small/fma_metadata/tracks.csv\", index_col=0, header=[0, 1])"
   ]
  },
  {
   "cell_type": "code",
   "execution_count": 36,
   "metadata": {},
   "outputs": [
    {
     "name": "stdout",
     "output_type": "stream",
     "text": [
      "Number of audio files found: 25000\n"
     ]
    }
   ],
   "source": [
    "audio_files = glob(\"./fma_medium/*/*.mp3\")\n",
    "print(f\"Number of audio files found: {len(audio_files)}\")"
   ]
  },
  {
   "cell_type": "code",
   "execution_count": 37,
   "metadata": {},
   "outputs": [],
   "source": [
    "def extract_features(file_path):\n",
    "    try:\n",
    "        x, sr = librosa.load(file_path, sr=None)\n",
    "        \n",
    "        mfcc = np.mean(librosa.feature.mfcc(y=x, sr=sr, n_mfcc=13).T, axis=0)\n",
    "        spectral_contrast = np.mean(librosa.feature.spectral_contrast(y=x, sr=sr).T, axis=0)\n",
    "        zero_crossing_rate = np.mean(librosa.feature.zero_crossing_rate(y=x))\n",
    "        spectral_centroid = np.mean(librosa.feature.spectral_centroid(y=x, sr=sr))\n",
    "        chroma_stft = np.mean(librosa.feature.chroma_stft(y=x, sr=sr).T, axis=0)\n",
    "        spectral_rolloff = np.mean(librosa.feature.spectral_rolloff(y=x, sr=sr))\n",
    "        rms = np.mean(librosa.feature.rms(y=x))\n",
    "        spectral_bandwidth = np.mean(librosa.feature.spectral_bandwidth(y=x, sr=sr))\n",
    "        tempo = librosa.beat.tempo(y=x, sr=sr)[0]\n",
    "        \n",
    "        features = np.hstack([\n",
    "            mfcc, spectral_contrast, zero_crossing_rate, spectral_centroid, \n",
    "            chroma_stft, spectral_rolloff, rms, spectral_bandwidth, tempo\n",
    "        ])\n",
    "        return features\n",
    "    except Exception as e:\n",
    "        print(f\"Could not process file {file_path}: {e}\")\n",
    "        return None\n"
   ]
  },
  {
   "cell_type": "code",
   "execution_count": null,
   "metadata": {},
   "outputs": [],
   "source": [
    "from joblib import Parallel, delayed\n",
    "from tqdm import tqdm\n",
    "\n",
    "def process_file(file):\n",
    "    try:\n",
    "        track_id = int(file.split(\"\\\\\")[-1].split(\".\")[0])\n",
    "        \n",
    "        if track_id in tracks.index:\n",
    "            features = extract_features(file)\n",
    "            \n",
    "            if features is not None:\n",
    "                genre = tracks.loc[track_id, ('track', 'genre_top')]\n",
    "                return [track_id, genre] + list(features)\n",
    "    except Exception as e:\n",
    "        print(f\"Could not process file {file}: {e}\")\n",
    "        return None\n",
    "\n",
    "data = Parallel(n_jobs=-1, backend=\"threading\")(delayed(process_file)(file) for file in tqdm(audio_files, desc=\"Extracting Features\"))\n",
    "\n",
    "data = [d for d in data if d is not None]\n",
    "\n",
    "columns = ['track_id', 'genre'] + [f'mfcc_{i+1}' for i in range(13)] + \\\n",
    "          [f'spectral_contrast_{i+1}' for i in range(7)] + \\\n",
    "          ['zero_crossing_rate', 'spectral_centroid'] + \\\n",
    "          [f'chroma_{i+1}' for i in range(12)] + \\\n",
    "          ['spectral_rolloff', 'rms', 'spectral_bandwidth', 'tempo']\n",
    "\n",
    "df = pd.DataFrame(data, columns=columns)\n",
    "\n",
    "df.head()\n"
   ]
  },
  {
   "cell_type": "code",
   "execution_count": 117,
   "metadata": {},
   "outputs": [],
   "source": [
    "df.to_csv('genre_features.csv', index=False)\n",
    "df = pd.read_csv('genre_features.csv')"
   ]
  },
  {
   "cell_type": "code",
   "execution_count": 39,
   "metadata": {},
   "outputs": [],
   "source": [
    "le = LabelEncoder()\n",
    "df['genre'] = le.fit_transform(df['genre'])\n",
    "\n",
    "X = df.drop(['track_id', 'genre'], axis=1)\n",
    "y = df['genre']\n",
    "\n",
    "scaler = StandardScaler()\n",
    "X_scaled = scaler.fit_transform(X)\n",
    "\n",
    "X_train, X_test, y_train, y_test = train_test_split(X_scaled, y, test_size=0.2, random_state=42)\n"
   ]
  },
  {
   "cell_type": "code",
   "execution_count": null,
   "metadata": {},
   "outputs": [],
   "source": [
    "estimators = [\n",
    "    ('xgb', XGBClassifier(random_state=42)),\n",
    "    ('svc', SVC(kernel='linear', probability=True)),\n",
    "    ('mlp', MLPClassifier(hidden_layer_sizes=(100,), max_iter=500))\n",
    "]\n",
    "\n",
    "stacking = StackingClassifier(estimators=estimators, final_estimator=XGBClassifier(random_state=42))\n",
    "stacking.fit(X_train, y_train)\n",
    "\n",
    "y_pred_stack = stacking.predict(X_test)\n",
    "print(\"Stacking Ensemble Accuracy:\", accuracy_score(y_test, y_pred_stack))\n"
   ]
  },
  {
   "cell_type": "code",
   "execution_count": null,
   "metadata": {},
   "outputs": [],
   "source": [
    "print(\"\\nClassification Report:\")\n",
    "print(classification_report(y_test, y_pred_stack, target_names=le.classes_))"
   ]
  },
  {
   "cell_type": "code",
   "execution_count": 110,
   "metadata": {},
   "outputs": [],
   "source": [
    "def extract_features_custom(file_path):\n",
    "    try:\n",
    "        x, sr = librosa.load(file_path, sr=None)\n",
    "\n",
    "        mfcc = np.mean(librosa.feature.mfcc(y=x, sr=sr, n_mfcc=13).T, axis=0)\n",
    "        spectral_contrast = np.mean(librosa.feature.spectral_contrast(y=x, sr=sr).T, axis=0)\n",
    "        zero_crossing_rate = np.mean(librosa.feature.zero_crossing_rate(y=x))\n",
    "        spectral_centroid = np.mean(librosa.feature.spectral_centroid(y=x, sr=sr))\n",
    "        chroma_stft = np.mean(librosa.feature.chroma_stft(y=x, sr=sr).T, axis=0)\n",
    "        spectral_rolloff = np.mean(librosa.feature.spectral_rolloff(y=x, sr=sr))\n",
    "        rms = np.mean(librosa.feature.rms(y=x))\n",
    "        spectral_bandwidth = np.mean(librosa.feature.spectral_bandwidth(y=x, sr=sr))\n",
    "        tempo = librosa.beat.tempo(y=x, sr=sr)[0]\n",
    "\n",
    "        features = np.hstack([mfcc, spectral_contrast, zero_crossing_rate, spectral_centroid, chroma_stft,\n",
    "                              spectral_rolloff, rms, spectral_bandwidth, tempo])\n",
    "        return features\n",
    "    except Exception as e:\n",
    "        print(f\"Could not process file {file_path}: {e}\")\n",
    "        return None"
   ]
  },
  {
   "cell_type": "code",
   "execution_count": 111,
   "metadata": {},
   "outputs": [],
   "source": [
    "def predict_genre_top_n(file_path, top_n=3):\n",
    "    features = extract_features_custom(file_path)\n",
    "    \n",
    "    if features is not None:\n",
    "        features = np.array(features).reshape(1, -1)\n",
    "        features = scaler.transform(features)\n",
    "        \n",
    "        probabilities = stacking.predict_proba(features)[0]\n",
    "\n",
    "        top_n_indices = np.argsort(probabilities)[::-1][:top_n]\n",
    "        \n",
    "        top_n_genres = le.inverse_transform(top_n_indices)\n",
    "        top_n_probabilities = probabilities[top_n_indices]\n",
    "        \n",
    "        print(f\"Top {top_n} Predictions for '{file_path}':\")\n",
    "        for i in range(top_n):\n",
    "            print(f\"{i+1}: {top_n_genres[i]} ({top_n_probabilities[i]*100:.2f}% probability)\")\n",
    "        \n",
    "        return top_n_genres, top_n_probabilities\n",
    "    else:\n",
    "        print(\"Feature extraction failed for the given track.\")\n",
    "        return None"
   ]
  },
  {
   "cell_type": "code",
   "execution_count": 120,
   "metadata": {},
   "outputs": [
    {
     "name": "stdout",
     "output_type": "stream",
     "text": [
      "Top 16 Predictions for 'FANFARA.mp3':\n",
      "1: Electronic (89.05% probability)\n",
      "2: Rock (5.62% probability)\n",
      "3: Experimental (3.11% probability)\n",
      "4: Hip-Hop (1.18% probability)\n",
      "5: International (0.39% probability)\n",
      "6: Instrumental (0.22% probability)\n",
      "7: Pop (0.18% probability)\n",
      "8: Soul-RnB (0.14% probability)\n",
      "9: Jazz (0.05% probability)\n",
      "10: Folk (0.03% probability)\n",
      "11: Classical (0.01% probability)\n",
      "12: Easy Listening (0.01% probability)\n",
      "13: Blues (0.00% probability)\n",
      "14: Country (0.00% probability)\n",
      "15: Spoken (0.00% probability)\n",
      "16: Old-Time / Historic (0.00% probability)\n"
     ]
    },
    {
     "data": {
      "text/plain": [
       "(array(['Electronic', 'Rock', 'Experimental', 'Hip-Hop', 'International',\n",
       "        'Instrumental', 'Pop', 'Soul-RnB', 'Jazz', 'Folk', 'Classical',\n",
       "        'Easy Listening', 'Blues', 'Country', 'Spoken',\n",
       "        'Old-Time / Historic'], dtype=object),\n",
       " array([8.90514553e-01, 5.62253706e-02, 3.11183445e-02, 1.17971925e-02,\n",
       "        3.86611465e-03, 2.20152270e-03, 1.75020471e-03, 1.39427418e-03,\n",
       "        5.23860799e-04, 2.86897674e-04, 1.17606549e-04, 6.49761423e-05,\n",
       "        4.87718353e-05, 4.72633947e-05, 3.23445165e-05, 1.06693451e-05],\n",
       "       dtype=float32))"
      ]
     },
     "execution_count": 120,
     "metadata": {},
     "output_type": "execute_result"
    }
   ],
   "source": [
    "predict_genre_top_n(\"FANFARA.mp3\", top_n=16)"
   ]
  }
 ],
 "metadata": {
  "kernelspec": {
   "display_name": "MusicGenreAI",
   "language": "python",
   "name": "python3"
  },
  "language_info": {
   "codemirror_mode": {
    "name": "ipython",
    "version": 3
   },
   "file_extension": ".py",
   "mimetype": "text/x-python",
   "name": "python",
   "nbconvert_exporter": "python",
   "pygments_lexer": "ipython3",
   "version": "3.12.4"
  }
 },
 "nbformat": 4,
 "nbformat_minor": 2
}
